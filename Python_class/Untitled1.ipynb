{
 "cells": [
  {
   "cell_type": "code",
   "execution_count": 3,
   "id": "e008323d",
   "metadata": {},
   "outputs": [
    {
     "name": "stdout",
     "output_type": "stream",
     "text": [
      "too high\n"
     ]
    }
   ],
   "source": [
    "secret=4\n",
    "guess=7\n",
    "if guess<secret:\n",
    "    print(\"too low\")\n",
    "elif guess>secret:\n",
    "    print(\"too high\")\n",
    "else:\n",
    "    print(\"just right\")"
   ]
  },
  {
   "cell_type": "code",
   "execution_count": 6,
   "id": "db469dd1",
   "metadata": {},
   "outputs": [
    {
     "name": "stdout",
     "output_type": "stream",
     "text": [
      "완두\n"
     ]
    }
   ],
   "source": [
    "small = True\n",
    "green = True\n",
    "\n",
    "if(small==True) and (green==True):\n",
    "    print(\"완두\")\n",
    "elif(small==False)and(green==True):\n",
    "    print(\"수박\")\n",
    "elif(small==True)and(green==False):\n",
    "    print(\"체리\")\n",
    "elif(small==False)and(green==False):\n",
    "    print(\"호박\")"
   ]
  },
  {
   "cell_type": "code",
   "execution_count": 16,
   "id": "98b9e92b",
   "metadata": {},
   "outputs": [
    {
     "name": "stdout",
     "output_type": "stream",
     "text": [
      "작으면 1 입력, 크다면 0 입력\n",
      "0\n",
      "녹색은 1 입력, 아니면 엔터\n",
      "1\n",
      "수박\n"
     ]
    }
   ],
   "source": [
    "print(\"작으면 1 입력, 크다면 0 입력\")\n",
    "small=input()\n",
    "print(\"녹색은 1 입력, 아니면 엔터\")\n",
    "green=input()\n",
    "\n",
    "if(small=='1'):\n",
    "    if(green=='1'):\n",
    "        print(\"완두\")\n",
    "    else:\n",
    "        print(\"체리\")\n",
    "elif(small=='0'):\n",
    "    if(green=='1'):\n",
    "        print(\"수박\")\n",
    "    else:\n",
    "        print(\"호박\")"
   ]
  },
  {
   "cell_type": "code",
   "execution_count": 6,
   "id": "47e390e0",
   "metadata": {},
   "outputs": [
    {
     "data": {
      "text/plain": [
       "'The woodchuck is in the lake.'"
      ]
     },
     "execution_count": 6,
     "metadata": {},
     "output_type": "execute_result"
    }
   ],
   "source": [
    "thing = 'woodchuck'\n",
    "place = 'lake'\n",
    "'The {1} is in the {0}.'.format(place,thing)"
   ]
  },
  {
   "cell_type": "code",
   "execution_count": 8,
   "id": "bec92df4",
   "metadata": {},
   "outputs": [
    {
     "data": {
      "text/plain": [
       "'The            woodchuck is in the         lake        .'"
      ]
     },
     "execution_count": 8,
     "metadata": {},
     "output_type": "execute_result"
    }
   ],
   "source": [
    "f'The {thing:>20} is in the {place:^20}.'"
   ]
  },
  {
   "cell_type": "code",
   "execution_count": 42,
   "id": "1cf177bd",
   "metadata": {},
   "outputs": [
    {
     "name": "stdout",
     "output_type": "stream",
     "text": [
      "When an eel grabs your arm,\n",
      "And it causes great harm,\n",
      "That's - a MORAY!\n"
     ]
    }
   ],
   "source": [
    "song=\"\"\"When an eel grabs your arm,\n",
    "And it causes great harm,\n",
    "That's - a moray!\"\"\"\n",
    "\n",
    "print(song.replace('moray','MORAY'))"
   ]
  },
  {
   "cell_type": "code",
   "execution_count": 62,
   "id": "c7ec045f",
   "metadata": {},
   "outputs": [
    {
     "name": "stdout",
     "output_type": "stream",
     "text": [
      "Q:  We don't serve strings aroud here. Are you a string?\n",
      "A:  No, I'm a frayed knot.\n",
      "Q:  What is said on Father's Day in the forest?\n",
      "A:  'pop!' goes the weasel.\n",
      "Q:  Wht makes the sound 'Sis! Boom! Bah!'?\n",
      "A:  An exploding sheep.\n"
     ]
    }
   ],
   "source": [
    "questions = [\n",
    "    \"We don't serve strings aroud here. Are you a string?\",\n",
    "    \"What is said on Father's Day in the forest?\",\n",
    "    \"Wht makes the sound 'Sis! Boom! Bah!'?\"\n",
    "]\n",
    "answers = [\n",
    "    \"An exploding sheep.\",\n",
    "    \"No, I'm a frayed knot.\",\n",
    "    \"'pop!' goes the weasel.\"\n",
    "]\n",
    "q_a = ((0,1), (1,2), (2,0))\n",
    "for q, a in q_a:\n",
    "    print(\"Q: \",questions[q])\n",
    "    print(\"A: \",answers[a])"
   ]
  },
  {
   "cell_type": "code",
   "execution_count": 60,
   "id": "24bbc479",
   "metadata": {},
   "outputs": [
    {
     "name": "stdout",
     "output_type": "stream",
     "text": [
      "My kitty cat likes roast beef, \n",
      "My kitty cat likes ham, \n",
      "My kitty fell on his head And now thinks he's a clam\n"
     ]
    }
   ],
   "source": [
    "print(\"\"\"My kitty cat likes %s, \n",
    "My kitty cat likes %s, \n",
    "My kitty fell on his %s And now thinks he's a %s\"\"\" %('roast beef','ham','head','clam'))"
   ]
  },
  {
   "cell_type": "code",
   "execution_count": 61,
   "id": "f128ba93",
   "metadata": {},
   "outputs": [
    {
     "name": "stdout",
     "output_type": "stream",
     "text": [
      "        Dear {salutation} {name},\n",
      "\n",
      "        Thank you for your letter. We are sorry that our {product} {verbed} in your \n",
      "{room}. Please not that it should never be used in a {room}, especially near any\n",
      "{animals}.\n",
      "        Send us your receipt and {amount} for shipping and handling. We will send you\n",
      "another {product} that, in our tests, is {percent}% less likely to have {verbed}.\n",
      "\n",
      "        Thank you for your support.\n",
      "        Sincerely,\n",
      "        {spokesman}\n",
      "        {job_title}\n"
     ]
    }
   ],
   "source": [
    "letter = \"\"\"        Dear {salutation} {name},\n",
    "\n",
    "        Thank you for your letter. We are sorry that our {product} {verbed} in your \n",
    "{room}. Please not that it should never be used in a {room}, especially near any\n",
    "{animals}.\n",
    "        Send us your receipt and {amount} for shipping and handling. We will send you\n",
    "another {product} that, in our tests, is {percent}% less likely to have {verbed}.\n",
    "\n",
    "        Thank you for your support.\n",
    "        Sincerely,\n",
    "        {spokesman}\n",
    "        {job_title}\"\"\"\n",
    "print(letter)"
   ]
  },
  {
   "cell_type": "code",
   "execution_count": 83,
   "id": "fcadb468",
   "metadata": {},
   "outputs": [
    {
     "name": "stdout",
     "output_type": "stream",
     "text": [
      "an English submarine 이름은 (Ducky McDuckface)로 지어짐\n",
      "an Australian racehorse 이름은 (Gourdy McGourdface)로 지어짐\n",
      "a Swedish train 이름은 (Spitzy McSpitzface)로 지어짐 \n"
     ]
    }
   ],
   "source": [
    "print(\"\"\"an English submarine 이름은 (%sy Mc%sface)로 지어짐\n",
    "an Australian racehorse 이름은 (%sy Mc%sface)로 지어짐\n",
    "a Swedish train 이름은 (%sy Mc%sface)로 지어짐 \"\"\" %('Duck','Duck','Gourd','Gourd','Spitz','Spitz'))"
   ]
  },
  {
   "cell_type": "code",
   "execution_count": 87,
   "id": "c0a3f3e5",
   "metadata": {},
   "outputs": [
    {
     "name": "stdout",
     "output_type": "stream",
     "text": [
      "an English submarine 이름은 (Ducky McDuckface)로 지어짐\n",
      "an Australian racehorse 이름은 (Gourdy McGourdface)로 지어짐\n",
      "a Swedish train 이름은 (Spitzy McSpitzface)로 지어짐 \n"
     ]
    }
   ],
   "source": [
    "print(\"\"\"an English submarine 이름은 ({}y Mc{}face)로 지어짐\n",
    "an Australian racehorse 이름은 ({}y Mc{}face)로 지어짐\n",
    "a Swedish train 이름은 ({}y Mc{}face)로 지어짐 \"\"\" .format('Duck','Duck','Gourd','Gourd','Spitz','Spitz'))"
   ]
  },
  {
   "cell_type": "code",
   "execution_count": 99,
   "id": "bd0a4da9",
   "metadata": {},
   "outputs": [
    {
     "name": "stdout",
     "output_type": "stream",
     "text": [
      "an English submarine 이름은 (Ducky McDuckface)로 지어짐\n",
      "an Australian racehorse 이름은 (Gourdy McGourdface)로 지어짐\n",
      "a Swedish train 이름은 (Spitzy McSpitzface)로 지어짐 \n"
     ]
    }
   ],
   "source": [
    "a='Duck'\n",
    "b='Gourd'\n",
    "c='Spitz'\n",
    "print(f\"\"\"an English submarine 이름은 ({a}y Mc{a}face)로 지어짐\n",
    "an Australian racehorse 이름은 ({b}y Mc{b}face)로 지어짐\n",
    "a Swedish train 이름은 ({c}y Mc{c}face)로 지어짐 \"\"\")"
   ]
  },
  {
   "cell_type": "code",
   "execution_count": 129,
   "id": "ebd321d4",
   "metadata": {},
   "outputs": [
    {
     "name": "stdout",
     "output_type": "stream",
     "text": [
      "I'm diamond you know I glow up\n"
     ]
    }
   ],
   "source": [
    "bts = \"\"\"Cos ah ah I'm in the stars tonight\n",
    "So watch me bring the fire and set the night alight\n",
    "Shoes on get up in the morn\n",
    "Cup of milk let's rock and roll\n",
    "King Kong kick the drum rolling on like a rolling stone\n",
    "Sing song when I'm walking home\n",
    "Jump up to the top LeBron\n",
    "Ding dong call me on my phone\n",
    "Ice tea and a game of ping pong\n",
    "This is getting heavy\n",
    "Can you hear the bass boom, I'm ready\n",
    "Life is sweet as honey\n",
    "Yeah this beat cha ching like money\n",
    "Disco overload I'm into that I'm good to go\n",
    "I'm diamond you know I glow up\n",
    "Hey, so let's go\n",
    "Cos ah ah I'm in the stars tonight\n",
    "So watch me bring the fire and set the night alight\n",
    "Shining through the city with a little funk and soul\n",
    "So I'mma light it up like dynamite, woah\n",
    "Bring a friend join the crowd\n",
    "Whoever wanna come along\n",
    "Word up talk the talk just move like we off the wall\n",
    "Day or night the sky's alight\n",
    "So we dance to the break of dawn\n",
    "Ladies and gentlemen,\n",
    "I got the medicine so you should keep ya eyes on the ball, huh\n",
    "This is getting heavy\n",
    "Can you hear the bass boom, I'm ready\n",
    "Life is sweet as honey\n",
    "Yeah this beat cha ching like money\n",
    "Disco overload I'm into that I'm good to go\n",
    "I'm diamond you know I glow up\n",
    "Let's go\n",
    "Cos ah ah I'm in the stars tonight\n",
    "So watch me bring the fire and set the night alight\n",
    "Shining through the city with a little funk and soul\n",
    "So I'mma light it up like dynamite, woah\n",
    "Dynnnnnanana, life is dynamite\n",
    "Dynnnnnanana, life is dynamite\n",
    "Shining through the city with a little funk and soul\n",
    "So I'mma light it up like dynamite, woah\n",
    "Dynnnnnanana eh\n",
    "Dynnnnnanana eh\n",
    "Dynnnnnanana eh\n",
    "Light it up like dynamite\n",
    "Dynnnnnanana eh\n",
    "Dynnnnnanana eh\n",
    "Dynnnnnanana eh\n",
    "Light it up like dynamite\n",
    "Cos ah ah I'm in the stars tonight\n",
    "So watch me bring the fire and set the night alight\n",
    "Shining through the city with a little funk and soul\n",
    "So I'mma light it up like dynamite\n",
    "Cos ah ah I'm in the stars tonight\n",
    "So watch me bring the fire and set the night alight\n",
    "Shining through the city with a little funk and soul\n",
    "So I'mma light it up like dynamite, woah\n",
    "Dynnnnnanana, life is dynamite\n",
    "Dynnnnnanana, life is dynamite\n",
    "Shining through the city with a little funk and soul\n",
    "So I'mma light it up like dynamite, woah\"\"\"\n",
    "\n",
    "index = bts.find(\"I'm diamond you know I glow up\")\n",
    "index2 = bts[index:].find('\\n')\n",
    "print(bts[index:index+index2])"
   ]
  },
  {
   "cell_type": "code",
   "execution_count": 1,
   "id": "e1195d7a",
   "metadata": {},
   "outputs": [
    {
     "name": "stdout",
     "output_type": "stream",
     "text": [
      "1\n",
      "2\n",
      "3\n",
      "4\n",
      "5\n"
     ]
    }
   ],
   "source": [
    "count=1\n",
    "while count <=5:\n",
    "    print(count)\n",
    "    count +=1"
   ]
  },
  {
   "cell_type": "code",
   "execution_count": 6,
   "id": "1561e221",
   "metadata": {},
   "outputs": [
    {
     "name": "stdout",
     "output_type": "stream",
     "text": [
      "String to capitalize [type q to quit]: sdfasdfsd\n",
      "Sdfasdfsd\n",
      "String to capitalize [type q to quit]: q\n"
     ]
    }
   ],
   "source": [
    "while True:\n",
    "    stuff = input(\"String to capitalize [type q to quit]: \")\n",
    "    if stuff == \"q\":\n",
    "        break\n",
    "    print(stuff.capitalize())"
   ]
  },
  {
   "cell_type": "code",
   "execution_count": 12,
   "id": "73d970e3",
   "metadata": {},
   "outputs": [
    {
     "name": "stdout",
     "output_type": "stream",
     "text": [
      "No even number found\n"
     ]
    }
   ],
   "source": [
    "numbers = [1,3,5]\n",
    "position = 0\n",
    "while position < len(numbers):\n",
    "    number = numbers[position]\n",
    "    if number % 2==0:\n",
    "        print('Found even number',number)\n",
    "        break\n",
    "    position +=1\n",
    "else: print('No even number found')"
   ]
  },
  {
   "cell_type": "code",
   "execution_count": 19,
   "id": "8afe9746",
   "metadata": {},
   "outputs": [
    {
     "name": "stdout",
     "output_type": "stream",
     "text": [
      "t\n",
      "h\n",
      "u\n"
     ]
    }
   ],
   "source": [
    "word = 'thud'\n",
    "for letter in word :\n",
    "    print(letter)\n",
    "    if letter == 'u':\n",
    "        break"
   ]
  },
  {
   "cell_type": "code",
   "execution_count": 31,
   "id": "86059286",
   "metadata": {},
   "outputs": [
    {
     "name": "stdout",
     "output_type": "stream",
     "text": [
      "3\n",
      "2\n",
      "1\n",
      "0\n"
     ]
    }
   ],
   "source": [
    "#1번\n",
    "list = [3,2,1,0]\n",
    "for i in range(4):\n",
    "    print(list[i])"
   ]
  },
  {
   "cell_type": "code",
   "execution_count": 33,
   "id": "5825a026",
   "metadata": {},
   "outputs": [
    {
     "ename": "SyntaxError",
     "evalue": "invalid syntax (<ipython-input-33-68a7285c80f7>, line 4)",
     "output_type": "error",
     "traceback": [
      "\u001b[1;36m  File \u001b[1;32m\"<ipython-input-33-68a7285c80f7>\"\u001b[1;36m, line \u001b[1;32m4\u001b[0m\n\u001b[1;33m    if\u001b[0m\n\u001b[1;37m       ^\u001b[0m\n\u001b[1;31mSyntaxError\u001b[0m\u001b[1;31m:\u001b[0m invalid syntax\n"
     ]
    }
   ],
   "source": [
    "#2번\n",
    "guess = 7\n",
    "number = 1\n",
    "while True:\n",
    "    if "
   ]
  },
  {
   "cell_type": "code",
   "execution_count": 1,
   "id": "e509c893",
   "metadata": {},
   "outputs": [
    {
     "name": "stdout",
     "output_type": "stream",
     "text": [
      "too low\n",
      "too low\n",
      "too low\n",
      "too low\n",
      "too low\n",
      "found it!\n",
      "oops\n",
      "oops\n",
      "oops\n",
      "oops\n"
     ]
    }
   ],
   "source": [
    "#3번\n",
    "guess_me = 5\n",
    "for number in range(10):\n",
    "    if number < guess_me:\n",
    "        print('too low')\n",
    "    elif number == guess_me:\n",
    "        print('found it!')\n",
    "    else:\n",
    "        print('oops')"
   ]
  },
  {
   "cell_type": "code",
   "execution_count": 49,
   "id": "5e5c6754",
   "metadata": {},
   "outputs": [
    {
     "name": "stdout",
     "output_type": "stream",
     "text": [
      "home"
     ]
    }
   ],
   "source": [
    "a = [0,10,11,1]\n",
    "list = [1,2,3,4,5,[6,7,8,9,[10,11,12,13,14,[15,16,17,18,[19,20,'hey, nagyeom']]]]]\n",
    "for i in range(4):\n",
    "    print(list[5][4][5][4][2][a[i]],end=\"\")"
   ]
  },
  {
   "cell_type": "code",
   "execution_count": 63,
   "id": "6c7a3693",
   "metadata": {},
   "outputs": [
    {
     "ename": "TypeError",
     "evalue": "'list' object is not callable",
     "output_type": "error",
     "traceback": [
      "\u001b[1;31m---------------------------------------------------------------------------\u001b[0m",
      "\u001b[1;31mTypeError\u001b[0m                                 Traceback (most recent call last)",
      "\u001b[1;32m<ipython-input-63-fdb4ca8cbc26>\u001b[0m in \u001b[0;36m<module>\u001b[1;34m\u001b[0m\n\u001b[1;32m----> 1\u001b[1;33m \u001b[0mlist\u001b[0m\u001b[1;33m(\u001b[0m\u001b[1;34m\"python\"\u001b[0m\u001b[1;33m)\u001b[0m\u001b[1;33m\u001b[0m\u001b[1;33m\u001b[0m\u001b[0m\n\u001b[0m",
      "\u001b[1;31mTypeError\u001b[0m: 'list' object is not callable"
     ]
    }
   ],
   "source": [
    "list(\"python\")"
   ]
  }
 ],
 "metadata": {
  "kernelspec": {
   "display_name": "Python 3",
   "language": "python",
   "name": "python3"
  },
  "language_info": {
   "codemirror_mode": {
    "name": "ipython",
    "version": 3
   },
   "file_extension": ".py",
   "mimetype": "text/x-python",
   "name": "python",
   "nbconvert_exporter": "python",
   "pygments_lexer": "ipython3",
   "version": "3.8.8"
  }
 },
 "nbformat": 4,
 "nbformat_minor": 5
}
