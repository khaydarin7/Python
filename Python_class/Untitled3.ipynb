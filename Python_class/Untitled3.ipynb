{
 "cells": [
  {
   "cell_type": "code",
   "execution_count": 109,
   "id": "7756a257",
   "metadata": {},
   "outputs": [
    {
     "name": "stdout",
     "output_type": "stream",
     "text": [
      "연도를 입력해주세요.\n",
      "1995\n",
      "[1995, 1996, 1997, 1998, 1999]\n",
      "years_list의 세 번째 출생년도는? 1997\n",
      "years_list의 가장 나이가 많은 년도는? 1999\n"
     ]
    }
   ],
   "source": [
    "#7.1\n",
    "year_list = []\n",
    "print(\"연도를 입력해주세요.\")\n",
    "year = int(input())\n",
    "for i in range(5):\n",
    "    year_list.append(year)\n",
    "    year += 1\n",
    "print(year_lists)\n",
    "#7.2\n",
    "print(f\"years_list의 세 번째 출생년도는? {year_list[2]}\")\n",
    "#7.3\n",
    "print(f\"years_list의 가장 나이가 많을 때는? {year_list[-1]}\")"
   ]
  },
  {
   "cell_type": "code",
   "execution_count": 111,
   "id": "504253fd",
   "metadata": {},
   "outputs": [
    {
     "name": "stdout",
     "output_type": "stream",
     "text": [
      "Cinderella\n",
      "MOZZARELLA\n",
      "['MOZZARELLA', 'Cinderella']\n"
     ]
    }
   ],
   "source": [
    "#7.4\n",
    "thing = ['mozzarella','cinderella','salmonella']\n",
    "#7.5\n",
    "thing[1] = thing[1].capitalize()\n",
    "print(thing[1])\n",
    "#7.6\n",
    "thing[0] = thing[0].upper()\n",
    "print(thing[0])\n",
    "#7.7\n",
    "del thing[2]\n",
    "print(thing)"
   ]
  },
  {
   "cell_type": "code",
   "execution_count": 106,
   "id": "3d02c364",
   "metadata": {},
   "outputs": [
    {
     "name": "stdout",
     "output_type": "stream",
     "text": [
      "Oprah\n"
     ]
    }
   ],
   "source": [
    "#7.8\n",
    "surprise = ['Groucho','Chico','Harpo']\n",
    "#7.9\n",
    "surprise[-1] = surprise[-1].lower()\n",
    "surprise[-1] = surprise[-1][::-1]\n",
    "surprise[-1] = surprise[-1].capitalize()\n",
    "print(surprise[-1])"
   ]
  },
  {
   "cell_type": "code",
   "execution_count": 113,
   "id": "c82e2d48",
   "metadata": {},
   "outputs": [
    {
     "name": "stdout",
     "output_type": "stream",
     "text": [
      "[0, 2, 4, 6, 8]\n"
     ]
    }
   ],
   "source": [
    "#7.10\n",
    "n = [i for i in range(10) if i % 2 == 0]\n",
    "print(n)"
   ]
  },
  {
   "cell_type": "code",
   "execution_count": 117,
   "id": "50c6c486",
   "metadata": {},
   "outputs": [
    {
     "name": "stdout",
     "output_type": "stream",
     "text": [
      "Fee! Fie! Foe! Flop!\n",
      "Someone better get a mop.\n"
     ]
    }
   ],
   "source": [
    "#7.11\n",
    "start1 = [\"fee\",\"fie\",\"foe\"]\n",
    "rhymes = [\n",
    "    (\"flop\",\"get a mop\"),\n",
    "    (\"fope\",\"turn the rope\"),\n",
    "    (\"fa\",\"get your ma\"),\n",
    "    (\"fudge\",\"call the judge\"),\n",
    "    (\"fat\",\"pet the cat\"),\n",
    "    (\"fog\",\"walk the dog\"),\n",
    "    (\"fun\",\"say we're done\"),\n",
    "]\n",
    "start2 = \"Someone better\"\n",
    "\n",
    "for i in start1:\n",
    "    i = i.capitalize()\n",
    "    print(i,end=\"! \")\n",
    "print(rhymes[0][0].capitalize()+\"!\")\n",
    "\n",
    "print(start2, rhymes[0][1]+\".\")"
   ]
  },
  {
   "cell_type": "code",
   "execution_count": null,
   "id": "79676a89",
   "metadata": {},
   "outputs": [],
   "source": []
  }
 ],
 "metadata": {
  "kernelspec": {
   "display_name": "Python 3",
   "language": "python",
   "name": "python3"
  },
  "language_info": {
   "codemirror_mode": {
    "name": "ipython",
    "version": 3
   },
   "file_extension": ".py",
   "mimetype": "text/x-python",
   "name": "python",
   "nbconvert_exporter": "python",
   "pygments_lexer": "ipython3",
   "version": "3.8.8"
  }
 },
 "nbformat": 4,
 "nbformat_minor": 5
}
