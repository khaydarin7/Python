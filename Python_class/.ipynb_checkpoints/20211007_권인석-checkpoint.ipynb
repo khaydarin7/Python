{
 "cells": [
  {
   "cell_type": "code",
   "execution_count": 19,
   "id": "b3ffae9c",
   "metadata": {},
   "outputs": [
    {
     "name": "stdout",
     "output_type": "stream",
     "text": [
      "이 노래의 단어 on의 갯수 : 23\n"
     ]
    }
   ],
   "source": [
    "song =\"\"\"My life's been magic, seems fantastic\n",
    "I used to have a hole in the wall with a mattress\n",
    "Funny when you want it, suddenly you have it\n",
    "You find out that your gold's just plastic\n",
    "Every day, every night\n",
    "I've been thinkin' back on you and I\n",
    "Every day, every night\n",
    "I worked my whole life\n",
    "Just to get right, just to be like\n",
    "\"Look at me, I'm never coming down\"\n",
    "I worked my whole life\n",
    "Just to get high, just to realize\n",
    "Everything I need is on the\n",
    "Everything I need is on the ground\n",
    "On the ground\n",
    "Everything I need is on the ground\n",
    "(Nah, but they don't hear me though)\n",
    "(Yeah, what goes up must come down)\n",
    "(Nah, but they don't hear me though)\n",
    "(You're runnin' out of time)\n",
    "My world's been hectic, seems electric\n",
    "But I've been waking up with your voice in my head\n",
    "And I'm tryna send a message and let you know that\n",
    "Every single minute I'm without you, I regret it\n",
    "Every day, every night\n",
    "I've been thinkin' back on you and I\n",
    "Every day, every night\n",
    "I worked my whole life\n",
    "Just to get right, just to be like\n",
    "\"Look at me, I'm never coming down\"\n",
    "I worked my whole life\n",
    "Just to get high, just to realize\n",
    "Everything I need is on the\n",
    "Everything I need is on the ground\n",
    "On the ground\n",
    "Everything I need is on the ground\n",
    "(Nah, but they don't hear me though)\n",
    "(Yeah, what goes up must come down)\n",
    "(Nah, but they don't hear me though)\n",
    "(You're runnin' out of time)\n",
    "I'm way up in the clouds\n",
    "And they say I've made it now\n",
    "But I figured it out\n",
    "Everything I need is on the ground (yeah, yeah)\n",
    "Just drove by your house (just drove by your house)\n",
    "So far from you now (so far from you now)\n",
    "But I figured it out\n",
    "Everything I need is on the\n",
    "Everything I need is on the ground\n",
    "On the ground\n",
    "Everything I need is on the ground\n",
    "(Nah, but they don't hear me though)\n",
    "On the ground\n",
    "(Nah, but they don't hear me though)\n",
    "Everything I need is on the ground\"\"\"\n",
    "\n",
    "word = 'on'\n",
    "cnt = song.count(word) + song.count(word.capitalize())\n",
    "print(f\"이 노래의 단어 {word}의 갯수 : {cnt}\")"
   ]
  },
  {
   "cell_type": "code",
   "execution_count": null,
   "id": "56292442",
   "metadata": {},
   "outputs": [],
   "source": []
  }
 ],
 "metadata": {
  "kernelspec": {
   "display_name": "Python 3",
   "language": "python",
   "name": "python3"
  },
  "language_info": {
   "codemirror_mode": {
    "name": "ipython",
    "version": 3
   },
   "file_extension": ".py",
   "mimetype": "text/x-python",
   "name": "python",
   "nbconvert_exporter": "python",
   "pygments_lexer": "ipython3",
   "version": "3.8.8"
  }
 },
 "nbformat": 4,
 "nbformat_minor": 5
}
