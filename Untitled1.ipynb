{
 "cells": [
  {
   "cell_type": "code",
   "execution_count": 5,
   "id": "8646e1ef",
   "metadata": {},
   "outputs": [],
   "source": [
    "import os\n",
    "import torchvision.transforms as transforms\n",
    "from torch.utils.data import Dataset\n",
    "from torchvision.utils import save_image\n",
    "from PIL import Image\n",
    "\n",
    "import cv2\n",
    "import numpy as np"
   ]
  },
  {
   "cell_type": "code",
   "execution_count": 4,
   "id": "f3b5cb44",
   "metadata": {},
   "outputs": [
    {
     "name": "stdout",
     "output_type": "stream",
     "text": [
      "Collecting opencv-python\n",
      "  Downloading opencv_python-4.5.3.56-cp38-cp38-win_amd64.whl (34.9 MB)\n",
      "Requirement already satisfied: numpy>=1.17.3 in c:\\users\\bound\\anaconda3\\lib\\site-packages (from opencv-python) (1.20.1)\n",
      "Installing collected packages: opencv-python\n",
      "Successfully installed opencv-python-4.5.3.56\n"
     ]
    }
   ],
   "source": [
    "!pip install opencv-python"
   ]
  },
  {
   "cell_type": "code",
   "execution_count": 6,
   "id": "306494f1",
   "metadata": {},
   "outputs": [],
   "source": [
    "image_format = [\".bmp\", \".jpg\", \".jpeg\", \".png\",\".tif\", \"tiff\", \"dom\"]\n",
    "\n",
    "def transformsShow(name=\"img\",) :\n",
    "    \n",
    "    def transforms_show(img):\n",
    "        cv2.imshow(name, np.array(img))\n",
    "        if cv2.waitkey(0) & 0xff == ord('q') :\n",
    "            exit()\n",
    "        return img\n",
    "    return transforms_show"
   ]
  },
  {
   "cell_type": "code",
   "execution_count": 22,
   "id": "10274f08",
   "metadata": {},
   "outputs": [
    {
     "ename": "SyntaxError",
     "evalue": "'return' outside function (<ipython-input-22-7a653fb10039>, line 35)",
     "output_type": "error",
     "traceback": [
      "\u001b[1;36m  File \u001b[1;32m\"<ipython-input-22-7a653fb10039>\"\u001b[1;36m, line \u001b[1;32m35\u001b[0m\n\u001b[1;33m    return self.loss_history\u001b[0m\n\u001b[1;37m    ^\u001b[0m\n\u001b[1;31mSyntaxError\u001b[0m\u001b[1;31m:\u001b[0m 'return' outside function\n"
     ]
    }
   ],
   "source": [
    "# numpy 로 직접 : LogisticRegression 구현\n",
    "class LogisticRegression:\n",
    "    def __init__(self, lr=0.01, num_iter=1000, fit_intercept=True, verbose=False):\n",
    "        self.lr = lr\n",
    "        self.num_iter = num_iter\n",
    "        self.fit_intercept = fit_intercept\n",
    "        self.verbose = verbose\n",
    "        self.eps = 1e-10\n",
    "        self.threshold = 0.5\n",
    "        self.loss_history = list()\n",
    "    def __add_intercept(self, X) :\n",
    "        intercept = np.ones((X.shape[0],1))\n",
    "        return np.concatenate((intercept, X), axis=1)\n",
    "    def __sigmoid(self, z):\n",
    "        return 1/(1+np.exp(-z))\n",
    "    def __loss(self, h , y):\n",
    "        return (-y * np.log(h+self.eps) - (1-y) * np.log(1 - h + self.eps)).mean()\n",
    "\n",
    "# fit() 학습 데이터로 model 을 학습하는 메서드\n",
    "    def fit(self, X, y ):\n",
    "        if self.fit_intercept:\n",
    "            x = self.__add_intercept(X)\n",
    "# weights\n",
    "        self.theta = np.zeros(X.shape[1])\n",
    "    for i in range(self.num_iter):\n",
    "        logit = np.dot(X, self.theta)\n",
    "        hypothersis = self.__sigmoid(logit)\n",
    "        gradint = np.dot(X.T, (hypothersis - y)) / y.size\n",
    "        self.theta -= self.lr * gradint\n",
    "\n",
    "        if self.verbose == True and i % 10 == 0 :\n",
    "            loss = self.__loss(hypothersis, y)\n",
    "            print(f\"epoch : {i} \\t loss : {loss} \\t\")\n",
    "            self.loss_history.append(loss)\n",
    "        return self.loss_history\n",
    "# 학습 데이터로 학습된 모델을 바탕으로 테스트 데이터의 각 인스턴스의 정상일 확률을 도출하는 메서드\n",
    "    def predict_prob(self, X) :\n",
    "        if self.fit_intercept:\n",
    "            X = self.__add_intercept(X)\n",
    "            return self.__sigmoid(np.dot(X, self.theta))\n",
    "# 학습 데이터로 학습된 모델을 바탕으로 테스트 데이터 라벨을 확인 메서드\n",
    "    def prdict(self, X) :\n",
    "        prdict_labels = np.where(self.predict_prob(X) > self.threshold, 1, 0 )\n",
    "        return prdict_label\n",
    "# 모델 테스트 정확 도출\n",
    "    def eval(self, x, y):\n",
    "        res_y = np.round(self.predict_prob(x), 0)\n",
    "        accuracy = np.sum(res_y == y) / len(y)\n",
    "        return accuracy"
   ]
  },
  {
   "cell_type": "code",
   "execution_count": 23,
   "id": "982becfd",
   "metadata": {},
   "outputs": [
    {
     "name": "stdout",
     "output_type": "stream",
     "text": [
      "Collecting arff\n",
      "  Downloading arff-0.9.tar.gz (4.7 kB)\n",
      "Building wheels for collected packages: arff\n",
      "  Building wheel for arff (setup.py): started\n",
      "  Building wheel for arff (setup.py): finished with status 'done'\n",
      "  Created wheel for arff: filename=arff-0.9-py3-none-any.whl size=4970 sha256=9021619e5902dd3852a4c75516a6ce1e8319f9f2d32632ea1ec2b8a8685c8f0a\n",
      "  Stored in directory: c:\\users\\bound\\appdata\\local\\pip\\cache\\wheels\\8b\\5b\\6a\\fdaf9e4b202a61789ddbc0341e3a0df5406d8e36edf08feaec\n",
      "Successfully built arff\n",
      "Installing collected packages: arff\n",
      "Successfully installed arff-0.9\n",
      "Requirement already satisfied: pandas in c:\\users\\bound\\anaconda3\\lib\\site-packages (1.2.4)\n",
      "Requirement already satisfied: python-dateutil>=2.7.3 in c:\\users\\bound\\anaconda3\\lib\\site-packages (from pandas) (2.8.1)\n",
      "Requirement already satisfied: pytz>=2017.3 in c:\\users\\bound\\anaconda3\\lib\\site-packages (from pandas) (2021.1)\n",
      "Requirement already satisfied: numpy>=1.16.5 in c:\\users\\bound\\anaconda3\\lib\\site-packages (from pandas) (1.20.1)\n",
      "Requirement already satisfied: six>=1.5 in c:\\users\\bound\\anaconda3\\lib\\site-packages (from python-dateutil>=2.7.3->pandas) (1.15.0)\n"
     ]
    }
   ],
   "source": [
    "!pip install arff\n",
    "!pip install pandas"
   ]
  },
  {
   "cell_type": "code",
   "execution_count": null,
   "id": "b2dd562e",
   "metadata": {},
   "outputs": [],
   "source": []
  }
 ],
 "metadata": {
  "kernelspec": {
   "display_name": "Python 3",
   "language": "python",
   "name": "python3"
  },
  "language_info": {
   "codemirror_mode": {
    "name": "ipython",
    "version": 3
   },
   "file_extension": ".py",
   "mimetype": "text/x-python",
   "name": "python",
   "nbconvert_exporter": "python",
   "pygments_lexer": "ipython3",
   "version": "3.8.8"
  }
 },
 "nbformat": 4,
 "nbformat_minor": 5
}
